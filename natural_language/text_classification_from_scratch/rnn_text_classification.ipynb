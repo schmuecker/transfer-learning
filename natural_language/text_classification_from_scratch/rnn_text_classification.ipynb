{
 "cells": [
  {
   "cell_type": "code",
   "execution_count": 1,
   "metadata": {},
   "outputs": [],
   "source": [
    "import numpy as np\n",
    "\n",
    "import tensorflow_datasets as tfds\n",
    "import tensorflow as tf\n",
    "\n",
    "# import os\n",
    "# os.environ[\"TF_FORCE_GPU_ALLOW_GROWTH\"]=\"true\"\n",
    "\n",
    "\n",
    "tfds.disable_progress_bar()"
   ]
  },
  {
   "cell_type": "code",
   "execution_count": 2,
   "metadata": {},
   "outputs": [
    {
     "data": {
      "text/plain": [
       "'2.10.0'"
      ]
     },
     "execution_count": 2,
     "metadata": {},
     "output_type": "execute_result"
    }
   ],
   "source": [
    "tf.__version__"
   ]
  },
  {
   "cell_type": "code",
   "execution_count": 3,
   "metadata": {},
   "outputs": [
    {
     "data": {
      "text/plain": [
       "[PhysicalDevice(name='/physical_device:GPU:0', device_type='GPU')]"
      ]
     },
     "execution_count": 3,
     "metadata": {},
     "output_type": "execute_result"
    }
   ],
   "source": [
    "devices = tf.config.experimental.list_physical_devices('GPU')\n",
    "devices"
   ]
  },
  {
   "cell_type": "code",
   "execution_count": 4,
   "metadata": {},
   "outputs": [
    {
     "name": "stdout",
     "output_type": "stream",
     "text": [
      "Success\n"
     ]
    }
   ],
   "source": [
    "physical_devices = tf.config.list_physical_devices('GPU')\n",
    "\n",
    "try:\n",
    "    tf.config.experimental.set_memory_growth(devices[0], True)\n",
    "    print(\"Success\")\n",
    "except:\n",
    "    print(\"Exception occured\")\n",
    "    pass"
   ]
  },
  {
   "cell_type": "markdown",
   "metadata": {},
   "source": [
    "**Read more about this dataset here: https://ai.stanford.edu/~amaas/data/sentiment/\n",
    "As per this article:\n",
    "This is a dataset for binary sentiment classification containing substantially more data than previous benchmark datasets. We provide a set of 25,000 highly polar movie reviews for training, and 25,000 for testing. There is additional unlabeled data for use as well.** "
   ]
  },
  {
   "cell_type": "code",
   "execution_count": 6,
   "metadata": {},
   "outputs": [],
   "source": [
    "dataset, info = tfds.load('imdb_reviews', data_dir='./datasets', with_info=True, as_supervised=True)"
   ]
  },
  {
   "cell_type": "code",
   "execution_count": 7,
   "metadata": {},
   "outputs": [
    {
     "data": {
      "text/plain": [
       "tfds.core.DatasetInfo(\n",
       "    name='imdb_reviews',\n",
       "    full_name='imdb_reviews/plain_text/1.0.0',\n",
       "    description=\"\"\"\n",
       "    Large Movie Review Dataset.\n",
       "    This is a dataset for binary sentiment classification containing substantially more data than previous benchmark datasets. We provide a set of 25,000 highly polar movie reviews for training, and 25,000 for testing. There is additional unlabeled data for use as well.\n",
       "    \"\"\",\n",
       "    config_description=\"\"\"\n",
       "    Plain text\n",
       "    \"\"\",\n",
       "    homepage='http://ai.stanford.edu/~amaas/data/sentiment/',\n",
       "    data_path='./datasets/imdb_reviews/plain_text/1.0.0',\n",
       "    file_format=tfrecord,\n",
       "    download_size=80.23 MiB,\n",
       "    dataset_size=129.83 MiB,\n",
       "    features=FeaturesDict({\n",
       "        'label': ClassLabel(shape=(), dtype=tf.int64, num_classes=2),\n",
       "        'text': Text(shape=(), dtype=tf.string),\n",
       "    }),\n",
       "    supervised_keys=('text', 'label'),\n",
       "    disable_shuffling=False,\n",
       "    splits={\n",
       "        'test': <SplitInfo num_examples=25000, num_shards=1>,\n",
       "        'train': <SplitInfo num_examples=25000, num_shards=1>,\n",
       "        'unsupervised': <SplitInfo num_examples=50000, num_shards=1>,\n",
       "    },\n",
       "    citation=\"\"\"@InProceedings{maas-EtAl:2011:ACL-HLT2011,\n",
       "      author    = {Maas, Andrew L.  and  Daly, Raymond E.  and  Pham, Peter T.  and  Huang, Dan  and  Ng, Andrew Y.  and  Potts, Christopher},\n",
       "      title     = {Learning Word Vectors for Sentiment Analysis},\n",
       "      booktitle = {Proceedings of the 49th Annual Meeting of the Association for Computational Linguistics: Human Language Technologies},\n",
       "      month     = {June},\n",
       "      year      = {2011},\n",
       "      address   = {Portland, Oregon, USA},\n",
       "      publisher = {Association for Computational Linguistics},\n",
       "      pages     = {142--150},\n",
       "      url       = {http://www.aclweb.org/anthology/P11-1015}\n",
       "    }\"\"\",\n",
       ")"
      ]
     },
     "execution_count": 7,
     "metadata": {},
     "output_type": "execute_result"
    }
   ],
   "source": [
    "info"
   ]
  },
  {
   "cell_type": "code",
   "execution_count": 8,
   "metadata": {},
   "outputs": [
    {
     "data": {
      "text/plain": [
       "{'train': <PrefetchDataset element_spec=(TensorSpec(shape=(), dtype=tf.string, name=None), TensorSpec(shape=(), dtype=tf.int64, name=None))>,\n",
       " 'test': <PrefetchDataset element_spec=(TensorSpec(shape=(), dtype=tf.string, name=None), TensorSpec(shape=(), dtype=tf.int64, name=None))>,\n",
       " 'unsupervised': <PrefetchDataset element_spec=(TensorSpec(shape=(), dtype=tf.string, name=None), TensorSpec(shape=(), dtype=tf.int64, name=None))>}"
      ]
     },
     "execution_count": 8,
     "metadata": {},
     "output_type": "execute_result"
    }
   ],
   "source": [
    "dataset"
   ]
  },
  {
   "cell_type": "code",
   "execution_count": 9,
   "metadata": {},
   "outputs": [],
   "source": [
    "train_dataset, test_dataset = dataset['train'], dataset['test']"
   ]
  },
  {
   "cell_type": "code",
   "execution_count": 10,
   "metadata": {},
   "outputs": [
    {
     "data": {
      "text/plain": [
       "tensorflow.python.data.ops.dataset_ops.PrefetchDataset"
      ]
     },
     "execution_count": 10,
     "metadata": {},
     "output_type": "execute_result"
    }
   ],
   "source": [
    "type(train_dataset)"
   ]
  },
  {
   "cell_type": "code",
   "execution_count": 11,
   "metadata": {},
   "outputs": [
    {
     "data": {
      "text/plain": [
       "25000"
      ]
     },
     "execution_count": 11,
     "metadata": {},
     "output_type": "execute_result"
    }
   ],
   "source": [
    "len(train_dataset)"
   ]
  },
  {
   "cell_type": "code",
   "execution_count": 12,
   "metadata": {},
   "outputs": [
    {
     "data": {
      "text/plain": [
       "25000"
      ]
     },
     "execution_count": 12,
     "metadata": {},
     "output_type": "execute_result"
    }
   ],
   "source": [
    "len(test_dataset)"
   ]
  },
  {
   "cell_type": "code",
   "execution_count": 13,
   "metadata": {},
   "outputs": [
    {
     "name": "stdout",
     "output_type": "stream",
     "text": [
      "b\"This was an absolutely terrible movie. Don't be lured in by Christopher Walken or Michael Ironside. Both are great actors, but this must simply be their worst role in history. Even their great acting could not redeem this movie's ridiculous storyline. This movie is an early nineties US propaganda piece. The most pathetic scenes were those when the Columbian rebels were making their cases for revolutions. Maria Conchita Alonso appeared phony, and her pseudo-love affair with Walken was nothing but a pathetic emotional plug in a movie that was devoid of any real meaning. I am disappointed that there are movies like this, ruining actor's like Christopher Walken's good name. I could barely sit through it.\"\n",
      "0\n"
     ]
    },
    {
     "name": "stderr",
     "output_type": "stream",
     "text": [
      "2022-10-30 13:18:59.871625: W tensorflow/core/platform/profile_utils/cpu_utils.cc:128] Failed to get CPU frequency: 0 Hz\n",
      "2022-10-30 13:18:59.886872: W tensorflow/core/kernels/data/cache_dataset_ops.cc:856] The calling iterator did not fully read the dataset being cached. In order to avoid unexpected truncation of the dataset, the partially cached contents of the dataset  will be discarded. This can happen if you have an input pipeline similar to `dataset.cache().take(k).repeat()`. You should use `dataset.take(k).cache().repeat()` instead.\n"
     ]
    }
   ],
   "source": [
    "for sample in train_dataset:\n",
    "    print(sample[0].numpy())\n",
    "    print(sample[1].numpy())\n",
    "    break"
   ]
  },
  {
   "cell_type": "code",
   "execution_count": 14,
   "metadata": {},
   "outputs": [],
   "source": [
    "BUFFER_SIZE = 10000\n",
    "BATCH_SIZE = 64"
   ]
  },
  {
   "cell_type": "code",
   "execution_count": 15,
   "metadata": {},
   "outputs": [],
   "source": [
    "train_dataset = train_dataset.shuffle(BUFFER_SIZE).batch(BATCH_SIZE).prefetch(tf.data.AUTOTUNE)\n",
    "test_dataset = test_dataset.batch(BATCH_SIZE).prefetch(tf.data.AUTOTUNE)"
   ]
  },
  {
   "cell_type": "code",
   "execution_count": 16,
   "metadata": {},
   "outputs": [
    {
     "name": "stdout",
     "output_type": "stream",
     "text": [
      "texts:  [b'THE WATERDANCE (1991) The main character of The Waterdance, played by Eric Stoltz, finds himself in a rehab center with some others similarly injured. And there he must face an harsh new life, confined to a wheelchair. It\\'s an interesting, and promising premise, but unfortunately, it fails to deploy. What ensues instead is largely Hollywood schmaltz, with some interesting moments. Certainly the cast (Eric Stoltz, William Forsythe, Wesley Snipes, et al) is brilliant, and perform well here as one would expect, but their talents are wasted. The characters are mainly stereotypes of one kind or another, and most of them are thoroughly unlikeable (the Snipes character being the exception). I suppose this is some kind of attempt to break through people\\'s ideas about the handicapped being \"crippled\" or \"weak\", by depicting them, for the most part, as in-your-face pricks, but it makes for an entirely annoying experience. Admittedly it will show you something of what those with permanent disabilities go through, in a way that is not softened or romanticized, which is useful, and a good idea, but while the process being depicted can make one a difficult person to get along with, and that\\'s worth dealing with, it is not part and parcel to that that these characters must be, to varying degrees, despicable. They wouldn\\'t have to be Disneyfied, either; surely there\\'s a middle ground somewhere. By the film\\'s conclusion, the Eric Stoltz character has come to accept his status as a handicapped person, but since he is such a flaming narcissistic monster from the beginning of the film to the end, we couldn\\'t care less. <br /><br />In addition to its character problems, the film suffers from that weird syndrome that so many Hollywood movies suffer from; the syndrome doesn\\'t really have an official name, but you might call it \"Inexplicable Forgiveness Syndrome\". It goes something like this: characters abuse the crap out of each other, and then without so much as an apology, all is forgiven (an especially obnoxious example of this is in the movie The Breakfast Club, in which one character spends most of the film verbally bullying everybody within earshot; as a result\\xc2\\x85they love him. In one of the the latest examples, Spiderman 3, supervillain The Sandman lays waste to a chunk of Manhattan, then wails on Spiderman for what seems like about 15 monotonous minutes before being waved off with what amounts to \"bye, now\"). The most egregious example of IFS in The Waterdance is a sequence in which, after being called the n-word by William Forsythe\\'s racist biker character and his friends in the previous scene, the Wesley Snipes character whoops it up with the same Forsythe character in the next scene, as if nothing had just happened just a short time hence. Again, without so much as an \"Oh yeah, sorry about that business back there where I, you know, called you the n-word\". It makes me wonder, do these people actually watch these movies before they release them, or do they just film them with their eyes closed, kind of slap them together in the editing room according to scene number, and call it a day\\'s work?'\n",
      " b'Victor McLaglen, the title character of John Ford\\'s THE INFORMER, reminded me of the circus man from Fellini\\'s LA STRADA. Anthony Quinn played the brutish man, who may have even been influenced by the pug-faced, Oscar-winning performance given by McLaglen. Poverty-stricken Dublin is the true-life, atmospheric setting of the picture, which takes place in 1922. Dense fog and a long damp night are the main elements of a story about deep Irish patriotism and the fight of the Irish Republican Army. The conflict of individuality and the cause is what makes THE INFORMER tick. McLaglen\\'s large, simple character just wants to go to America and we\\'re reminded by signs of the price for a ticket frequently. Two different signs become the psychological centerpiece for the drunken Irishman. One is the previous, the other a WANTED sign. Should he do it and get the money to go?<br /><br />John Ford once famously said, \"My name is Ford. I make Westerns.\" After seeing this film, he obviously could do a heck of a lot more. The serious social issues dealt with here are heartfelt and ones you will find yourself thinking about. And the look of the piece is amazing, consisting of long dark shadows cutting into a miserable Ireland night. Ford was always known for his luminescent, gorgeous cinematography that helped to foresee the conflicts within his characters. This is hard in color, but he did it in pictures like THE SEARCHERS, painting John Wayne in a sometimes vicious manner. Victor McLaglen\\'s performance not only benefits from the lighting, but by the sheer simplicity of his acting. He shoves a lot. He knocks people out. He is a brute who knows no better. He should, however, know whether or not to cross the IRA.<br /><br />See the film to find out the gritty details. See it also for McLaglen and Ford\\'s patriotic portrayal of the IRA. Max Steiner\\'s score is innovative in how it matches gestures of the characters, placing more emphasis on them. This was usually only seen in silent films, especially Chaplin. The topic of naming names or \"informing\" is obviously still important. Just look at how the media covered this year\\'s Oscars, giving much attention to the Elia Kazan scandal.'\n",
      " b'I watched about 30 minutes into this film before I finally got sick of getting bludgeoned over the head with this movie. The soundtrack, the so-called \\'plot\\', and each and every actor. It\\'s like they all think they\\'re the main part of the movie and scream \"NOTICE ME!\" over and over again. The bad guy has his bad-guy music going on and says sinister bad-guy-like things, just in case you didn\\'t quite catch on. The good guy does brave and noble things just in case you didn\\'t know he was the good guy. And oh lord, the plane scene. \"MY HUSBAND IS MISSING! OH MY GOD! IT\\'S IMPOSSIBLE THAT HE GOT UP TO STRETCH HIS LEGS OR GO TO THE TOILET OR ANYTHING, HE MUST BE MISSING!\" (And yes, I know, his clothes were still there, but honestly, she woke up and started to panic before she even had time to look at the damn seat he\\'d been in.)<br /><br />As a religious girl, I want to apologize to the world for wasting the film this was printed on.<br /><br />And I want my 30 minutes back.']\n",
      "\n",
      "labels:  [0 1 0]\n"
     ]
    },
    {
     "name": "stderr",
     "output_type": "stream",
     "text": [
      "2022-10-30 13:19:00.190780: W tensorflow/core/kernels/data/cache_dataset_ops.cc:856] The calling iterator did not fully read the dataset being cached. In order to avoid unexpected truncation of the dataset, the partially cached contents of the dataset  will be discarded. This can happen if you have an input pipeline similar to `dataset.cache().take(k).repeat()`. You should use `dataset.take(k).cache().repeat()` instead.\n"
     ]
    }
   ],
   "source": [
    "for example, label in train_dataset.take(1):\n",
    "    print('texts: ', example.numpy()[:3])\n",
    "    print()\n",
    "    print('labels: ', label.numpy()[:3])"
   ]
  },
  {
   "cell_type": "code",
   "execution_count": 17,
   "metadata": {},
   "outputs": [
    {
     "name": "stderr",
     "output_type": "stream",
     "text": [
      "2022-10-30 13:19:00.296083: I tensorflow/core/grappler/optimizers/custom_graph_optimizer_registry.cc:114] Plugin optimizer for device_type GPU is enabled.\n"
     ]
    }
   ],
   "source": [
    "e = tf.keras.layers.experimental.preprocessing.TextVectorization()\n",
    "e.adapt([\n",
    "    \"I love samosas and jalebi\",\n",
    "    \"I love biking and yoga\",\n",
    "    \"I love tensorflow\"\n",
    "])"
   ]
  },
  {
   "cell_type": "code",
   "execution_count": 18,
   "metadata": {},
   "outputs": [
    {
     "data": {
      "text/plain": [
       "['',\n",
       " '[UNK]',\n",
       " 'love',\n",
       " 'i',\n",
       " 'and',\n",
       " 'yoga',\n",
       " 'tensorflow',\n",
       " 'samosas',\n",
       " 'jalebi',\n",
       " 'biking']"
      ]
     },
     "execution_count": 18,
     "metadata": {},
     "output_type": "execute_result"
    }
   ],
   "source": [
    "e.get_vocabulary()"
   ]
  },
  {
   "cell_type": "code",
   "execution_count": 19,
   "metadata": {},
   "outputs": [
    {
     "data": {
      "text/plain": [
       "array([[3, 2, 1]])"
      ]
     },
     "execution_count": 19,
     "metadata": {},
     "output_type": "execute_result"
    }
   ],
   "source": [
    "e([\"I love pizza\"]).numpy()"
   ]
  },
  {
   "cell_type": "code",
   "execution_count": 20,
   "metadata": {},
   "outputs": [
    {
     "name": "stderr",
     "output_type": "stream",
     "text": [
      "2022-10-30 13:19:00.473526: I tensorflow/core/grappler/optimizers/custom_graph_optimizer_registry.cc:114] Plugin optimizer for device_type GPU is enabled.\n"
     ]
    }
   ],
   "source": [
    "VOCAB_SIZE = 1000\n",
    "encoder = tf.keras.layers.experimental.preprocessing.TextVectorization(\n",
    "    max_tokens=VOCAB_SIZE)\n",
    "encoder.adapt(train_dataset.map(lambda text, label: text))"
   ]
  },
  {
   "cell_type": "code",
   "execution_count": 21,
   "metadata": {},
   "outputs": [
    {
     "data": {
      "text/plain": [
       "array(['', '[UNK]', 'the', 'and', 'a', 'of', 'to', 'is', 'in', 'it', 'i',\n",
       "       'this', 'that', 'br', 'was', 'as', 'for', 'with', 'movie', 'but',\n",
       "       'film', 'on', 'not', 'you', 'are'], dtype='<U14')"
      ]
     },
     "execution_count": 21,
     "metadata": {},
     "output_type": "execute_result"
    }
   ],
   "source": [
    "vocab = np.array(encoder.get_vocabulary())\n",
    "vocab[:25]"
   ]
  },
  {
   "cell_type": "code",
   "execution_count": 22,
   "metadata": {},
   "outputs": [
    {
     "data": {
      "text/plain": [
       "<tf.Tensor: shape=(2,), dtype=string, numpy=\n",
       "array([b'THE WATERDANCE (1991) The main character of The Waterdance, played by Eric Stoltz, finds himself in a rehab center with some others similarly injured. And there he must face an harsh new life, confined to a wheelchair. It\\'s an interesting, and promising premise, but unfortunately, it fails to deploy. What ensues instead is largely Hollywood schmaltz, with some interesting moments. Certainly the cast (Eric Stoltz, William Forsythe, Wesley Snipes, et al) is brilliant, and perform well here as one would expect, but their talents are wasted. The characters are mainly stereotypes of one kind or another, and most of them are thoroughly unlikeable (the Snipes character being the exception). I suppose this is some kind of attempt to break through people\\'s ideas about the handicapped being \"crippled\" or \"weak\", by depicting them, for the most part, as in-your-face pricks, but it makes for an entirely annoying experience. Admittedly it will show you something of what those with permanent disabilities go through, in a way that is not softened or romanticized, which is useful, and a good idea, but while the process being depicted can make one a difficult person to get along with, and that\\'s worth dealing with, it is not part and parcel to that that these characters must be, to varying degrees, despicable. They wouldn\\'t have to be Disneyfied, either; surely there\\'s a middle ground somewhere. By the film\\'s conclusion, the Eric Stoltz character has come to accept his status as a handicapped person, but since he is such a flaming narcissistic monster from the beginning of the film to the end, we couldn\\'t care less. <br /><br />In addition to its character problems, the film suffers from that weird syndrome that so many Hollywood movies suffer from; the syndrome doesn\\'t really have an official name, but you might call it \"Inexplicable Forgiveness Syndrome\". It goes something like this: characters abuse the crap out of each other, and then without so much as an apology, all is forgiven (an especially obnoxious example of this is in the movie The Breakfast Club, in which one character spends most of the film verbally bullying everybody within earshot; as a result\\xc2\\x85they love him. In one of the the latest examples, Spiderman 3, supervillain The Sandman lays waste to a chunk of Manhattan, then wails on Spiderman for what seems like about 15 monotonous minutes before being waved off with what amounts to \"bye, now\"). The most egregious example of IFS in The Waterdance is a sequence in which, after being called the n-word by William Forsythe\\'s racist biker character and his friends in the previous scene, the Wesley Snipes character whoops it up with the same Forsythe character in the next scene, as if nothing had just happened just a short time hence. Again, without so much as an \"Oh yeah, sorry about that business back there where I, you know, called you the n-word\". It makes me wonder, do these people actually watch these movies before they release them, or do they just film them with their eyes closed, kind of slap them together in the editing room according to scene number, and call it a day\\'s work?',\n",
       "       b'Victor McLaglen, the title character of John Ford\\'s THE INFORMER, reminded me of the circus man from Fellini\\'s LA STRADA. Anthony Quinn played the brutish man, who may have even been influenced by the pug-faced, Oscar-winning performance given by McLaglen. Poverty-stricken Dublin is the true-life, atmospheric setting of the picture, which takes place in 1922. Dense fog and a long damp night are the main elements of a story about deep Irish patriotism and the fight of the Irish Republican Army. The conflict of individuality and the cause is what makes THE INFORMER tick. McLaglen\\'s large, simple character just wants to go to America and we\\'re reminded by signs of the price for a ticket frequently. Two different signs become the psychological centerpiece for the drunken Irishman. One is the previous, the other a WANTED sign. Should he do it and get the money to go?<br /><br />John Ford once famously said, \"My name is Ford. I make Westerns.\" After seeing this film, he obviously could do a heck of a lot more. The serious social issues dealt with here are heartfelt and ones you will find yourself thinking about. And the look of the piece is amazing, consisting of long dark shadows cutting into a miserable Ireland night. Ford was always known for his luminescent, gorgeous cinematography that helped to foresee the conflicts within his characters. This is hard in color, but he did it in pictures like THE SEARCHERS, painting John Wayne in a sometimes vicious manner. Victor McLaglen\\'s performance not only benefits from the lighting, but by the sheer simplicity of his acting. He shoves a lot. He knocks people out. He is a brute who knows no better. He should, however, know whether or not to cross the IRA.<br /><br />See the film to find out the gritty details. See it also for McLaglen and Ford\\'s patriotic portrayal of the IRA. Max Steiner\\'s score is innovative in how it matches gestures of the characters, placing more emphasis on them. This was usually only seen in silent films, especially Chaplin. The topic of naming names or \"informing\" is obviously still important. Just look at how the media covered this year\\'s Oscars, giving much attention to the Elia Kazan scandal.'],\n",
       "      dtype=object)>"
      ]
     },
     "execution_count": 22,
     "metadata": {},
     "output_type": "execute_result"
    }
   ],
   "source": [
    "example[:2]"
   ]
  },
  {
   "cell_type": "code",
   "execution_count": 23,
   "metadata": {},
   "outputs": [
    {
     "data": {
      "text/plain": [
       "array([[  2,   1,   1, ...,   0,   0,   0],\n",
       "       [  1,   1,   2, ...,   0,   0,   0],\n",
       "       [ 10, 284,  43, ...,   0,   0,   0]])"
      ]
     },
     "execution_count": 23,
     "metadata": {},
     "output_type": "execute_result"
    }
   ],
   "source": [
    "encoded_example = encoder(example)[:3].numpy()\n",
    "encoded_example"
   ]
  },
  {
   "cell_type": "code",
   "execution_count": 24,
   "metadata": {
    "scrolled": true
   },
   "outputs": [
    {
     "name": "stdout",
     "output_type": "stream",
     "text": [
      "Original:  b'THE WATERDANCE (1991) The main character of The Waterdance, played by Eric Stoltz, finds himself in a rehab center with some others similarly injured. And there he must face an harsh new life, confined to a wheelchair. It\\'s an interesting, and promising premise, but unfortunately, it fails to deploy. What ensues instead is largely Hollywood schmaltz, with some interesting moments. Certainly the cast (Eric Stoltz, William Forsythe, Wesley Snipes, et al) is brilliant, and perform well here as one would expect, but their talents are wasted. The characters are mainly stereotypes of one kind or another, and most of them are thoroughly unlikeable (the Snipes character being the exception). I suppose this is some kind of attempt to break through people\\'s ideas about the handicapped being \"crippled\" or \"weak\", by depicting them, for the most part, as in-your-face pricks, but it makes for an entirely annoying experience. Admittedly it will show you something of what those with permanent disabilities go through, in a way that is not softened or romanticized, which is useful, and a good idea, but while the process being depicted can make one a difficult person to get along with, and that\\'s worth dealing with, it is not part and parcel to that that these characters must be, to varying degrees, despicable. They wouldn\\'t have to be Disneyfied, either; surely there\\'s a middle ground somewhere. By the film\\'s conclusion, the Eric Stoltz character has come to accept his status as a handicapped person, but since he is such a flaming narcissistic monster from the beginning of the film to the end, we couldn\\'t care less. <br /><br />In addition to its character problems, the film suffers from that weird syndrome that so many Hollywood movies suffer from; the syndrome doesn\\'t really have an official name, but you might call it \"Inexplicable Forgiveness Syndrome\". It goes something like this: characters abuse the crap out of each other, and then without so much as an apology, all is forgiven (an especially obnoxious example of this is in the movie The Breakfast Club, in which one character spends most of the film verbally bullying everybody within earshot; as a result\\xc2\\x85they love him. In one of the the latest examples, Spiderman 3, supervillain The Sandman lays waste to a chunk of Manhattan, then wails on Spiderman for what seems like about 15 monotonous minutes before being waved off with what amounts to \"bye, now\"). The most egregious example of IFS in The Waterdance is a sequence in which, after being called the n-word by William Forsythe\\'s racist biker character and his friends in the previous scene, the Wesley Snipes character whoops it up with the same Forsythe character in the next scene, as if nothing had just happened just a short time hence. Again, without so much as an \"Oh yeah, sorry about that business back there where I, you know, called you the n-word\". It makes me wonder, do these people actually watch these movies before they release them, or do they just film them with their eyes closed, kind of slap them together in the editing room according to scene number, and call it a day\\'s work?'\n",
      "Round-trip:  the [UNK] [UNK] the main character of the [UNK] played by [UNK] [UNK] finds himself in a [UNK] [UNK] with some others [UNK] [UNK] and there he must face an [UNK] new life [UNK] to a [UNK] its an interesting and [UNK] premise but unfortunately it fails to [UNK] what [UNK] instead is [UNK] hollywood [UNK] with some interesting moments certainly the cast [UNK] [UNK] [UNK] [UNK] [UNK] [UNK] [UNK] [UNK] is brilliant and [UNK] well here as one would expect but their [UNK] are [UNK] the characters are [UNK] [UNK] of one kind or another and most of them are [UNK] [UNK] the [UNK] character being the [UNK] i [UNK] this is some kind of attempt to [UNK] through [UNK] ideas about the [UNK] being [UNK] or weak by [UNK] them for the most part as [UNK] [UNK] but it makes for an [UNK] annoying experience [UNK] it will show you something of what those with [UNK] [UNK] go through in a way that is not [UNK] or [UNK] which is [UNK] and a good idea but while the [UNK] being [UNK] can make one a difficult person to get along with and thats worth [UNK] with it is not part and [UNK] to that that these characters must be to [UNK] [UNK] [UNK] they wouldnt have to be [UNK] either [UNK] theres a middle [UNK] [UNK] by the films [UNK] the [UNK] [UNK] character has come to [UNK] his [UNK] as a [UNK] person but since he is such a [UNK] [UNK] monster from the beginning of the film to the end we couldnt care less br br in [UNK] to its character problems the film [UNK] from that weird [UNK] that so many hollywood movies [UNK] from the [UNK] doesnt really have an [UNK] name but you might call it [UNK] [UNK] [UNK] it goes something like this characters [UNK] the crap out of each other and then without so much as an [UNK] all is [UNK] an especially [UNK] example of this is in the movie the [UNK] [UNK] in which one character [UNK] most of the film [UNK] [UNK] [UNK] within [UNK] as a [UNK] love him in one of the the [UNK] [UNK] [UNK] 3 [UNK] the [UNK] [UNK] waste to a [UNK] of [UNK] then [UNK] on [UNK] for what seems like about [UNK] [UNK] minutes before being [UNK] off with what [UNK] to [UNK] now the most [UNK] example of [UNK] in the [UNK] is a sequence in which after being called the [UNK] by [UNK] [UNK] [UNK] [UNK] character and his friends in the previous scene the [UNK] [UNK] character [UNK] it up with the same [UNK] character in the next scene as if nothing had just happened just a short time [UNK] again without so much as an oh [UNK] sorry about that business back there where i you know called you the [UNK] it makes me wonder do these people actually watch these movies before they release them or do they just film them with their eyes [UNK] kind of [UNK] them together in the editing room [UNK] to scene number and call it a days work                                                                                                       \n",
      "\n",
      "Original:  b'Victor McLaglen, the title character of John Ford\\'s THE INFORMER, reminded me of the circus man from Fellini\\'s LA STRADA. Anthony Quinn played the brutish man, who may have even been influenced by the pug-faced, Oscar-winning performance given by McLaglen. Poverty-stricken Dublin is the true-life, atmospheric setting of the picture, which takes place in 1922. Dense fog and a long damp night are the main elements of a story about deep Irish patriotism and the fight of the Irish Republican Army. The conflict of individuality and the cause is what makes THE INFORMER tick. McLaglen\\'s large, simple character just wants to go to America and we\\'re reminded by signs of the price for a ticket frequently. Two different signs become the psychological centerpiece for the drunken Irishman. One is the previous, the other a WANTED sign. Should he do it and get the money to go?<br /><br />John Ford once famously said, \"My name is Ford. I make Westerns.\" After seeing this film, he obviously could do a heck of a lot more. The serious social issues dealt with here are heartfelt and ones you will find yourself thinking about. And the look of the piece is amazing, consisting of long dark shadows cutting into a miserable Ireland night. Ford was always known for his luminescent, gorgeous cinematography that helped to foresee the conflicts within his characters. This is hard in color, but he did it in pictures like THE SEARCHERS, painting John Wayne in a sometimes vicious manner. Victor McLaglen\\'s performance not only benefits from the lighting, but by the sheer simplicity of his acting. He shoves a lot. He knocks people out. He is a brute who knows no better. He should, however, know whether or not to cross the IRA.<br /><br />See the film to find out the gritty details. See it also for McLaglen and Ford\\'s patriotic portrayal of the IRA. Max Steiner\\'s score is innovative in how it matches gestures of the characters, placing more emphasis on them. This was usually only seen in silent films, especially Chaplin. The topic of naming names or \"informing\" is obviously still important. Just look at how the media covered this year\\'s Oscars, giving much attention to the Elia Kazan scandal.'\n",
      "Round-trip:  [UNK] [UNK] the title character of john [UNK] the [UNK] [UNK] me of the [UNK] man from [UNK] la [UNK] [UNK] [UNK] played the [UNK] man who may have even been [UNK] by the [UNK] [UNK] performance given by [UNK] [UNK] [UNK] is the [UNK] [UNK] setting of the picture which takes place in [UNK] [UNK] [UNK] and a long [UNK] night are the main elements of a story about deep [UNK] [UNK] and the fight of the [UNK] [UNK] [UNK] the [UNK] of [UNK] and the [UNK] is what makes the [UNK] [UNK] [UNK] [UNK] simple character just wants to go to america and were [UNK] by [UNK] of the [UNK] for a [UNK] [UNK] two different [UNK] become the [UNK] [UNK] for the [UNK] [UNK] one is the previous the other a wanted [UNK] should he do it and get the money to [UNK] br john [UNK] once [UNK] said my name is [UNK] i make [UNK] after seeing this film he obviously could do a [UNK] of a lot more the serious [UNK] [UNK] [UNK] with here are [UNK] and ones you will find yourself thinking about and the look of the piece is amazing [UNK] of long dark [UNK] [UNK] into a [UNK] [UNK] night [UNK] was always known for his [UNK] [UNK] cinematography that [UNK] to [UNK] the [UNK] within his characters this is hard in [UNK] but he did it in [UNK] like the [UNK] [UNK] john [UNK] in a sometimes [UNK] [UNK] [UNK] [UNK] performance not only [UNK] from the [UNK] but by the [UNK] [UNK] of his acting he [UNK] a lot he [UNK] people out he is a [UNK] who knows no better he should however know whether or not to [UNK] the [UNK] br see the film to find out the [UNK] [UNK] see it also for [UNK] and [UNK] [UNK] [UNK] of the [UNK] [UNK] [UNK] score is [UNK] in how it [UNK] [UNK] of the characters [UNK] more [UNK] on them this was usually only seen in [UNK] films especially [UNK] the [UNK] of [UNK] [UNK] or [UNK] is obviously still important just look at how the [UNK] [UNK] this years [UNK] giving much attention to the [UNK] [UNK] [UNK]                                                                                                                                                                                                                                                                   \n",
      "\n",
      "Original:  b'I watched about 30 minutes into this film before I finally got sick of getting bludgeoned over the head with this movie. The soundtrack, the so-called \\'plot\\', and each and every actor. It\\'s like they all think they\\'re the main part of the movie and scream \"NOTICE ME!\" over and over again. The bad guy has his bad-guy music going on and says sinister bad-guy-like things, just in case you didn\\'t quite catch on. The good guy does brave and noble things just in case you didn\\'t know he was the good guy. And oh lord, the plane scene. \"MY HUSBAND IS MISSING! OH MY GOD! IT\\'S IMPOSSIBLE THAT HE GOT UP TO STRETCH HIS LEGS OR GO TO THE TOILET OR ANYTHING, HE MUST BE MISSING!\" (And yes, I know, his clothes were still there, but honestly, she woke up and started to panic before she even had time to look at the damn seat he\\'d been in.)<br /><br />As a religious girl, I want to apologize to the world for wasting the film this was printed on.<br /><br />And I want my 30 minutes back.'\n",
      "Round-trip:  i watched about [UNK] minutes into this film before i finally got [UNK] of getting [UNK] over the head with this movie the soundtrack the [UNK] plot and each and every actor its like they all think theyre the main part of the movie and [UNK] [UNK] me over and over again the bad guy has his [UNK] music going on and says [UNK] [UNK] things just in case you didnt quite [UNK] on the good guy does [UNK] and [UNK] things just in case you didnt know he was the good guy and oh [UNK] the [UNK] scene my husband is missing oh my god its [UNK] that he got up to [UNK] his [UNK] or go to the [UNK] or anything he must be missing and yes i know his [UNK] were still there but [UNK] she [UNK] up and started to [UNK] before she even had time to look at the [UNK] [UNK] [UNK] been [UNK] br as a [UNK] girl i want to [UNK] to the world for [UNK] the film this was [UNK] [UNK] br and i want my [UNK] minutes back                                                                                                                                                                                                                                                                                                                                                                                                                                                            \n",
      "\n"
     ]
    }
   ],
   "source": [
    "for n in range(3):\n",
    "    print(\"Original: \", example[n].numpy())\n",
    "    print(\"Round-trip: \", \" \".join(vocab[encoded_example[n]]))\n",
    "    print()"
   ]
  },
  {
   "cell_type": "code",
   "execution_count": 25,
   "metadata": {},
   "outputs": [],
   "source": [
    "model = tf.keras.Sequential([\n",
    "    encoder,\n",
    "    tf.keras.layers.Embedding(\n",
    "        input_dim=len(encoder.get_vocabulary()),\n",
    "        output_dim=64,\n",
    "        # Use masking to handle the variable sequence lengths\n",
    "        mask_zero=True),\n",
    "    tf.keras.layers.Bidirectional(tf.keras.layers.LSTM(64)),\n",
    "    tf.keras.layers.Dense(64, activation='relu'),\n",
    "    tf.keras.layers.Dense(1)\n",
    "])"
   ]
  },
  {
   "cell_type": "code",
   "execution_count": 26,
   "metadata": {},
   "outputs": [
    {
     "name": "stderr",
     "output_type": "stream",
     "text": [
      "2022-10-30 13:19:04.321459: I tensorflow/core/grappler/optimizers/custom_graph_optimizer_registry.cc:114] Plugin optimizer for device_type GPU is enabled.\n"
     ]
    },
    {
     "name": "stdout",
     "output_type": "stream",
     "text": [
      "1/1 [==============================] - 1s 1s/step\n",
      "[0.00827623]\n"
     ]
    },
    {
     "name": "stderr",
     "output_type": "stream",
     "text": [
      "2022-10-30 13:19:04.549864: I tensorflow/core/grappler/optimizers/custom_graph_optimizer_registry.cc:114] Plugin optimizer for device_type GPU is enabled.\n",
      "2022-10-30 13:19:04.612755: I tensorflow/core/grappler/optimizers/custom_graph_optimizer_registry.cc:114] Plugin optimizer for device_type GPU is enabled.\n"
     ]
    }
   ],
   "source": [
    "sample_text = ('The movie was cool. The animation and the graphics '\n",
    "               'were out of this world. I would recommend this movie.')\n",
    "sample_text = ('awesome movie, I loved it so much')\n",
    "predictions = model.predict(np.array([sample_text]))\n",
    "print(predictions[0])"
   ]
  },
  {
   "cell_type": "code",
   "execution_count": 27,
   "metadata": {},
   "outputs": [],
   "source": [
    "model.compile(loss=tf.keras.losses.BinaryCrossentropy(from_logits=True),\n",
    "              optimizer=tf.keras.optimizers.Adam(1e-4),\n",
    "              metrics=['accuracy'])"
   ]
  },
  {
   "cell_type": "code",
   "execution_count": 28,
   "metadata": {
    "scrolled": false
   },
   "outputs": [
    {
     "name": "stdout",
     "output_type": "stream",
     "text": [
      "Epoch 1/10\n"
     ]
    },
    {
     "name": "stderr",
     "output_type": "stream",
     "text": [
      "2022-10-30 13:19:07.955646: I tensorflow/core/grappler/optimizers/custom_graph_optimizer_registry.cc:114] Plugin optimizer for device_type GPU is enabled.\n",
      "2022-10-30 13:19:08.459314: W tensorflow/core/common_runtime/forward_type_inference.cc:332] Type inference failed. This indicates an invalid graph that escaped type checking. Error message: INVALID_ARGUMENT: expected compatible input types, but input 1:\n",
      "type_id: TFT_OPTIONAL\n",
      "args {\n",
      "  type_id: TFT_PRODUCT\n",
      "  args {\n",
      "    type_id: TFT_TENSOR\n",
      "    args {\n",
      "      type_id: TFT_INT32\n",
      "    }\n",
      "  }\n",
      "}\n",
      " is neither a subtype nor a supertype of the combined inputs preceding it:\n",
      "type_id: TFT_OPTIONAL\n",
      "args {\n",
      "  type_id: TFT_PRODUCT\n",
      "  args {\n",
      "    type_id: TFT_TENSOR\n",
      "    args {\n",
      "      type_id: TFT_FLOAT\n",
      "    }\n",
      "  }\n",
      "}\n",
      "\n",
      "\twhile inferring type of node 'cond_40/output/_23'\n",
      "2022-10-30 13:19:08.464257: I tensorflow/core/grappler/optimizers/custom_graph_optimizer_registry.cc:114] Plugin optimizer for device_type GPU is enabled.\n",
      "2022-10-30 13:19:08.615670: I tensorflow/core/grappler/optimizers/custom_graph_optimizer_registry.cc:114] Plugin optimizer for device_type GPU is enabled.\n",
      "2022-10-30 13:19:13.648805: I tensorflow/core/grappler/optimizers/custom_graph_optimizer_registry.cc:114] Plugin optimizer for device_type GPU is enabled.\n",
      "2022-10-30 13:19:13.811129: I tensorflow/core/grappler/optimizers/custom_graph_optimizer_registry.cc:114] Plugin optimizer for device_type GPU is enabled.\n"
     ]
    },
    {
     "name": "stdout",
     "output_type": "stream",
     "text": [
      " 35/391 [=>............................] - ETA: 1:38:05 - loss: 0.6939 - accuracy: 0.5022"
     ]
    }
   ],
   "source": [
    "\n",
    "model.fit(train_dataset, epochs=10,\n",
    "                    validation_data=test_dataset,\n",
    "                    validation_steps=30)"
   ]
  },
  {
   "cell_type": "code",
   "execution_count": null,
   "metadata": {},
   "outputs": [
    {
     "name": "stdout",
     "output_type": "stream",
     "text": [
      "3.8.5 (tags/v3.8.5:580fbb0, Jul 20 2020, 15:57:54) [MSC v.1924 64 bit (AMD64)]\n"
     ]
    }
   ],
   "source": [
    "import sys\n",
    "print(sys.version)"
   ]
  }
 ],
 "metadata": {
  "kernelspec": {
   "display_name": "Python 3.9.12 64-bit ('miniconda')",
   "language": "python",
   "name": "python3"
  },
  "language_info": {
   "codemirror_mode": {
    "name": "ipython",
    "version": 3
   },
   "file_extension": ".py",
   "mimetype": "text/x-python",
   "name": "python",
   "nbconvert_exporter": "python",
   "pygments_lexer": "ipython3",
   "version": "3.9.12"
  },
  "vscode": {
   "interpreter": {
    "hash": "1d92518144f61134976ceef286099171ab7e96c5352ad4b70379352031f531a8"
   }
  }
 },
 "nbformat": 4,
 "nbformat_minor": 4
}
