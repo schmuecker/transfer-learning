{
  "cells": [
    {
      "cell_type": "markdown",
      "metadata": {
        "id": "view-in-github",
        "colab_type": "text"
      },
      "source": [
        "<a href=\"https://colab.research.google.com/github/schmuecker/transfer-learning/blob/main/natural_language/text_classification_from_scratch/rnn_text_classification.ipynb\" target=\"_parent\"><img src=\"https://colab.research.google.com/assets/colab-badge.svg\" alt=\"Open In Colab\"/></a>"
      ]
    },
    {
      "cell_type": "code",
      "execution_count": 1,
      "metadata": {
        "id": "89STjTor76bf"
      },
      "outputs": [],
      "source": [
        "import numpy as np\n",
        "\n",
        "import tensorflow_datasets as tfds\n",
        "import tensorflow as tf\n",
        "\n",
        "# import os\n",
        "# os.environ[\"TF_FORCE_GPU_ALLOW_GROWTH\"]=\"true\"\n",
        "\n",
        "\n",
        "tfds.disable_progress_bar()"
      ]
    },
    {
      "cell_type": "code",
      "execution_count": 2,
      "metadata": {
        "colab": {
          "base_uri": "https://localhost:8080/",
          "height": 35
        },
        "id": "a6fZLyWi76bg",
        "outputId": "a5be5db6-c5d4-43d5-ed98-de56660af05d"
      },
      "outputs": [
        {
          "output_type": "execute_result",
          "data": {
            "text/plain": [
              "'2.9.2'"
            ],
            "application/vnd.google.colaboratory.intrinsic+json": {
              "type": "string"
            }
          },
          "metadata": {},
          "execution_count": 2
        }
      ],
      "source": [
        "tf.__version__"
      ]
    },
    {
      "cell_type": "code",
      "execution_count": 3,
      "metadata": {
        "colab": {
          "base_uri": "https://localhost:8080/"
        },
        "id": "1DDDB0Mv76bg",
        "outputId": "70b3a480-fdbc-44ef-aebb-6a21c2eb8e46"
      },
      "outputs": [
        {
          "output_type": "execute_result",
          "data": {
            "text/plain": [
              "[]"
            ]
          },
          "metadata": {},
          "execution_count": 3
        }
      ],
      "source": [
        "devices = tf.config.experimental.list_physical_devices('GPU')\n",
        "devices"
      ]
    },
    {
      "cell_type": "code",
      "execution_count": 4,
      "metadata": {
        "colab": {
          "base_uri": "https://localhost:8080/"
        },
        "id": "rHnlQJyC76bg",
        "outputId": "d890c329-2a34-41fd-8dd4-bbc4fc7500c6"
      },
      "outputs": [
        {
          "output_type": "stream",
          "name": "stdout",
          "text": [
            "Exception occured\n"
          ]
        }
      ],
      "source": [
        "physical_devices = tf.config.list_physical_devices('GPU')\n",
        "\n",
        "try:\n",
        "    tf.config.experimental.set_memory_growth(devices[0], True)\n",
        "    print(\"Success\")\n",
        "except:\n",
        "    print(\"Exception occured\")\n",
        "    pass"
      ]
    },
    {
      "cell_type": "markdown",
      "metadata": {
        "id": "xYbjDteo76bg"
      },
      "source": [
        "**Read more about this dataset here: https://ai.stanford.edu/~amaas/data/sentiment/\n",
        "As per this article:\n",
        "This is a dataset for binary sentiment classification containing substantially more data than previous benchmark datasets. We provide a set of 25,000 highly polar movie reviews for training, and 25,000 for testing. There is additional unlabeled data for use as well.** "
      ]
    },
    {
      "cell_type": "code",
      "execution_count": 5,
      "metadata": {
        "colab": {
          "base_uri": "https://localhost:8080/"
        },
        "id": "_U5piE3s76bh",
        "outputId": "7986e005-c45d-4230-9344-04ea60cf799c"
      },
      "outputs": [
        {
          "output_type": "stream",
          "name": "stdout",
          "text": [
            "\u001b[1mDownloading and preparing dataset 80.23 MiB (download: 80.23 MiB, generated: Unknown size, total: 80.23 MiB) to ./datasets/imdb_reviews/plain_text/1.0.0...\u001b[0m\n",
            "\u001b[1mDataset imdb_reviews downloaded and prepared to ./datasets/imdb_reviews/plain_text/1.0.0. Subsequent calls will reuse this data.\u001b[0m\n"
          ]
        }
      ],
      "source": [
        "dataset, info = tfds.load('imdb_reviews', data_dir='./datasets', with_info=True, as_supervised=True)"
      ]
    },
    {
      "cell_type": "code",
      "execution_count": 6,
      "metadata": {
        "colab": {
          "base_uri": "https://localhost:8080/"
        },
        "id": "x9HgDRJ576bh",
        "outputId": "37470d47-6c8b-4e2d-da28-97e66eb09439"
      },
      "outputs": [
        {
          "output_type": "execute_result",
          "data": {
            "text/plain": [
              "tfds.core.DatasetInfo(\n",
              "    name='imdb_reviews',\n",
              "    full_name='imdb_reviews/plain_text/1.0.0',\n",
              "    description=\"\"\"\n",
              "    Large Movie Review Dataset.\n",
              "    This is a dataset for binary sentiment classification containing substantially more data than previous benchmark datasets. We provide a set of 25,000 highly polar movie reviews for training, and 25,000 for testing. There is additional unlabeled data for use as well.\n",
              "    \"\"\",\n",
              "    config_description=\"\"\"\n",
              "    Plain text\n",
              "    \"\"\",\n",
              "    homepage='http://ai.stanford.edu/~amaas/data/sentiment/',\n",
              "    data_path='./datasets/imdb_reviews/plain_text/1.0.0',\n",
              "    file_format=tfrecord,\n",
              "    download_size=80.23 MiB,\n",
              "    dataset_size=129.83 MiB,\n",
              "    features=FeaturesDict({\n",
              "        'label': ClassLabel(shape=(), dtype=tf.int64, num_classes=2),\n",
              "        'text': Text(shape=(), dtype=tf.string),\n",
              "    }),\n",
              "    supervised_keys=('text', 'label'),\n",
              "    disable_shuffling=False,\n",
              "    splits={\n",
              "        'test': <SplitInfo num_examples=25000, num_shards=1>,\n",
              "        'train': <SplitInfo num_examples=25000, num_shards=1>,\n",
              "        'unsupervised': <SplitInfo num_examples=50000, num_shards=1>,\n",
              "    },\n",
              "    citation=\"\"\"@InProceedings{maas-EtAl:2011:ACL-HLT2011,\n",
              "      author    = {Maas, Andrew L.  and  Daly, Raymond E.  and  Pham, Peter T.  and  Huang, Dan  and  Ng, Andrew Y.  and  Potts, Christopher},\n",
              "      title     = {Learning Word Vectors for Sentiment Analysis},\n",
              "      booktitle = {Proceedings of the 49th Annual Meeting of the Association for Computational Linguistics: Human Language Technologies},\n",
              "      month     = {June},\n",
              "      year      = {2011},\n",
              "      address   = {Portland, Oregon, USA},\n",
              "      publisher = {Association for Computational Linguistics},\n",
              "      pages     = {142--150},\n",
              "      url       = {http://www.aclweb.org/anthology/P11-1015}\n",
              "    }\"\"\",\n",
              ")"
            ]
          },
          "metadata": {},
          "execution_count": 6
        }
      ],
      "source": [
        "info"
      ]
    },
    {
      "cell_type": "code",
      "execution_count": 7,
      "metadata": {
        "colab": {
          "base_uri": "https://localhost:8080/"
        },
        "id": "esNl4zpW76bh",
        "outputId": "e704fa44-947a-4d72-df27-001dd9e7017c"
      },
      "outputs": [
        {
          "output_type": "execute_result",
          "data": {
            "text/plain": [
              "{Split('train'): <PrefetchDataset element_spec=(TensorSpec(shape=(), dtype=tf.string, name=None), TensorSpec(shape=(), dtype=tf.int64, name=None))>,\n",
              " Split('test'): <PrefetchDataset element_spec=(TensorSpec(shape=(), dtype=tf.string, name=None), TensorSpec(shape=(), dtype=tf.int64, name=None))>,\n",
              " Split('unsupervised'): <PrefetchDataset element_spec=(TensorSpec(shape=(), dtype=tf.string, name=None), TensorSpec(shape=(), dtype=tf.int64, name=None))>}"
            ]
          },
          "metadata": {},
          "execution_count": 7
        }
      ],
      "source": [
        "dataset"
      ]
    },
    {
      "cell_type": "code",
      "execution_count": 8,
      "metadata": {
        "id": "9KJUYgXg76bh"
      },
      "outputs": [],
      "source": [
        "train_dataset, test_dataset = dataset['train'], dataset['test']"
      ]
    },
    {
      "cell_type": "code",
      "execution_count": 9,
      "metadata": {
        "colab": {
          "base_uri": "https://localhost:8080/"
        },
        "id": "TgYsAszr76bh",
        "outputId": "e74308ae-59ff-4ad8-e18e-3d8513fe8b1c"
      },
      "outputs": [
        {
          "output_type": "execute_result",
          "data": {
            "text/plain": [
              "tensorflow.python.data.ops.dataset_ops.PrefetchDataset"
            ]
          },
          "metadata": {},
          "execution_count": 9
        }
      ],
      "source": [
        "type(train_dataset)"
      ]
    },
    {
      "cell_type": "code",
      "execution_count": 10,
      "metadata": {
        "colab": {
          "base_uri": "https://localhost:8080/"
        },
        "id": "FbyYRbng76bh",
        "outputId": "f730e8a0-99ed-401c-82fd-99c0a71a046d"
      },
      "outputs": [
        {
          "output_type": "execute_result",
          "data": {
            "text/plain": [
              "25000"
            ]
          },
          "metadata": {},
          "execution_count": 10
        }
      ],
      "source": [
        "len(train_dataset)"
      ]
    },
    {
      "cell_type": "code",
      "execution_count": 11,
      "metadata": {
        "colab": {
          "base_uri": "https://localhost:8080/"
        },
        "id": "qAzsD1Il76bi",
        "outputId": "1733e2e5-888c-4924-a63b-40a91ec1e210"
      },
      "outputs": [
        {
          "output_type": "execute_result",
          "data": {
            "text/plain": [
              "25000"
            ]
          },
          "metadata": {},
          "execution_count": 11
        }
      ],
      "source": [
        "len(test_dataset)"
      ]
    },
    {
      "cell_type": "code",
      "execution_count": 12,
      "metadata": {
        "colab": {
          "base_uri": "https://localhost:8080/"
        },
        "id": "gz163B2o76bi",
        "outputId": "4d1fbc70-cb9c-4c98-f38c-ead1ccd263fb"
      },
      "outputs": [
        {
          "output_type": "stream",
          "name": "stdout",
          "text": [
            "b\"This was an absolutely terrible movie. Don't be lured in by Christopher Walken or Michael Ironside. Both are great actors, but this must simply be their worst role in history. Even their great acting could not redeem this movie's ridiculous storyline. This movie is an early nineties US propaganda piece. The most pathetic scenes were those when the Columbian rebels were making their cases for revolutions. Maria Conchita Alonso appeared phony, and her pseudo-love affair with Walken was nothing but a pathetic emotional plug in a movie that was devoid of any real meaning. I am disappointed that there are movies like this, ruining actor's like Christopher Walken's good name. I could barely sit through it.\"\n",
            "0\n"
          ]
        }
      ],
      "source": [
        "for sample in train_dataset:\n",
        "    print(sample[0].numpy())\n",
        "    print(sample[1].numpy())\n",
        "    break"
      ]
    },
    {
      "cell_type": "code",
      "execution_count": 13,
      "metadata": {
        "id": "6IFeGfDa76bi"
      },
      "outputs": [],
      "source": [
        "BUFFER_SIZE = 10000\n",
        "BATCH_SIZE = 64"
      ]
    },
    {
      "cell_type": "code",
      "execution_count": 14,
      "metadata": {
        "id": "8tJC8rS276bi"
      },
      "outputs": [],
      "source": [
        "train_dataset = train_dataset.shuffle(BUFFER_SIZE).batch(BATCH_SIZE).prefetch(tf.data.AUTOTUNE)\n",
        "test_dataset = test_dataset.batch(BATCH_SIZE).prefetch(tf.data.AUTOTUNE)"
      ]
    },
    {
      "cell_type": "code",
      "execution_count": 15,
      "metadata": {
        "colab": {
          "base_uri": "https://localhost:8080/"
        },
        "id": "7bDpFB2B76bi",
        "outputId": "df008929-a8b8-49d5-9e09-740588b3d93c"
      },
      "outputs": [
        {
          "output_type": "stream",
          "name": "stdout",
          "text": [
            "texts:  [b'What an ambitious project Kenneth Branagh undertook here and how well it was realized! This is the first filmed version of \\'Hamlet\\' to use the full text of Shakespeare\\'s play, but Branagh didn\\'t do it just because \"it was there.\" His intention, I believe, was to make the play accessible and understandable to the general viewer without dumbing it down, so to speak. In return he asks viewers to put in a little work themselves, a fair enough proposition and one that\\'s a bargain.<br /><br />The setting is a generic 19th century European one and this does more than work well, it keeps a modern or ancient look from possibly distracting from the work itself. The production design and cinematography and both outstanding, which helps immensely when you\\'re watching a four-hour movie. Branagh\\'s casting once again is inspired and the acting is likewise. The direction accomplishes the heavy task of making this a movie rather than a deluxe version of a play. Since so much of \\'Hamlet\\' is based on interior monologue and there are relatively few duels, battles, etc., this can be a daunting task. But everything Branagh tries to do seems to work.<br /><br />Branagh has always been one of the most interesting actor/writer/directors, if not always the best, since he made his big splash with \\'Henry V.\\' One quibble I had with him was what I saw as a tendency to ham it up at times. In his portrayal of Hamlet here he might be accused of that again, but there is a method at work. Let\\'s face it, \\'Hamlet\\' is not an easy work for the average person to understand and if one has never seen it performed before, he or she needs help even if they\\'ve read the play. Hamlet has the most lines of any Shakespearian character and Branagh makes sure that his viewers know what this man is thinking and feeling throughout the film, even if you don\\'t know the literal meaning of every arcane word. This performance by Branagh was at the very least worthy of an Oscar nomination.<br /><br />There are so many other outstanding performances here they\\'re almost too numerous to mention, but some of them must be acknowledged. Derek Jacobi as Claudius is superb but even he takes a back seat to Kate Winslet when it comes to handing out praise. Her portrayal of Ophelia is awesome in its depth of feeling, made only more outstanding by the knowledge that she was only about 20 years old at the time! She looks to me like the finest young actress around. Other super performers in no particular order are Richard Briers, Nicholas Farrell, Michael Maloney, and Reece Dinsdale and Timothy Spall as Guildenstern and Rosencrantz, respectively. Honorable mention goes to Julie Christie, Charlton Heston, and Robin Williams, who manages to do his thing here successfully. Even Billy Crystal as a gravedigger works. The one cast member who doesn\\'t, inexplicably, is Jack Lemmon. In the very opening scene he appears, and while the other three actors do a great job at setting the tense mood, Lemmon sounds like he is just running lines in rehearsal as a favor. You know this must have been a real dilemma for Branagh, since everything else about the movies screams out that it\\'s the work of a perfectionist.<br /><br />Not to be facetious when speaking of a four-hour movie, but it does seem just a tad too long. Some monologues and conversations do tend to go on a bit, if I may be so bold, and a little bit of judicious pruning would be welcome.<br /><br />Did I forget anything, other than Patrick Doyle\\'s score? No doubt I did. I\\'ll just sum up by saying that Kenneth Branagh may have made the definitive film version of \\'Hamlet,\\' and it will be a truly monumental production that tops this one.'\n",
            " b'When a friend gave me a boxed set of \"12 Amazing Scifi/Horror Movies!\" I was understandably a little cautious. But, since the item was a gift, I really didn\\'t truly pay my common sense much heed. After all....movies for free! So what if they are a little ropey. After much consideration, Alien Intruder was the first of those movies. Ironically, it was first choice because it looked the best of the bunch. All I can say is, if this is the best of them, I shudder to think what the rest are like.<br /><br />On the surface, it had some good things going for it. Four (count \\'em!) actors that I was familiar with. Billy Dee Williams, Tracy Scoggins, Maxwell Caulfield and Jeff Conaway. I told myself...\"Billy and Tracy have been in some good scifi (Star Wars and Babylon 5, respectively) so they wouldn\\'t sign up for a turkey. Max is a veteran soap actor who never really managed to break into film....but not too shoddy an actor. An Jeff....well...he\\'s done the good and the bad as far as films and TV go.\" I was soon to discover that Jeff had decided to add \"the ugly\" to his repertoire of movies.<br /><br />The first clue was in the opening scenes. Jeff mugs his way with gusto through an \"I\\'m mad\" scene before finally killing himself. An amusing cameo performance, really. Unfortunately this is, without much exaggeration, the highlight of the film. It goes downhill from there.<br /><br />Next up we have the commander of the mission (Williams) who is being sent out to see what happened to Jeff and his crew busy picking his new shipmates from among the ranks of the criminal element. But this assortment aren\\'t so much the Dirty Dozen - more like the Unconvincing Foursome. Plus, one of the crims, a computer hacker, is shown in his cell working away on a laptop computer. Isn\\'t that a bit like letting a murderer run a gun shop in the slammer? Pretty lame prison, if you ask me.<br /><br />When they finally take off the effects are truly horrible. It looks like the spaceship model was knocked up in an afternoon by some bored 8 year old who had parts left over from his Airfix kits.<br /><br />But the horror doesn\\'t stop there. Whilst on route to the area where Jeff\\'s ship vanished, the criminal crew are rewarded for their good behaviour by being given weekends of virtual reality, in which they indulge their male fantasies. All well and good, and the use of scenes from their fantasies serves as an introduction to the \"Alien Menace\" which begins to appear there. But did they have to drag it out for quite sooooo loooooong? Alien Intruder? Alien Boring, more like.<br /><br />Finally they make it to G-Sector and the alien presence makes them fight against each other for her affections until only good old Max is left. The ending, in truly optimistic rubbish film vein, hints at a sequel - as if! Also making an appearance in this movie is a character I\\'ll nickname the \"Sweatdroid\". He\\'s supposed to be an android, but apparently that fact was lost on the make-up crew, who provided him with sweaty features at any opportunity. But don\\'t worry, he\\'s just there to make up the body count numbers at the end.<br /><br />Williams and Scoggins, to be truthful, do very little in the film. They only just barely stay awake, let alone act. And, as I mentioned earlier, Jeff gets an early trip to the showers, so his manicness isn\\'t allowed to enlighten much of the film. Max tries his best, as do a couple of the other cast members, but the movie is just direly atrocious, to be honest.<br /><br />The one, and only, half-way imaginative thing this movie offers is the ship naming convention. They are all named after musicians - Holly, Presley, Joplin. The rest of the film is bland and uninspired.<br /><br />Made in 1992, I had thought, on initial viewing, it was one of those 80\\'s straight-to-video jobs. Looks like they still made crap movies well into the 90\\'s, it seems.<br /><br />It\\'s best avoided. Even as a beer n chips movie this film is a stinker, but at least you can fast forward it, I suppose.'\n",
            " b\"To be honest I watched this movie only because of my pubert needs. I mean, I couldn't get women at my age (I was 9 or 10) so I thought watching Elvira's cleavage was the closet thing to sex.<br /><br />I ended up having a great time with this cult classic about horror comedy, Halloween parties, sassy humor, and some sexy evil displayed by Elvira.<br /><br />They just don't make movies like this anymore... It had the feeling of an amateur effort mixed with a late night cable talk show host style. <br /><br />The truth is that it generated plenty of fans because of it's humor and the ability to perform by Cassandra. <br /><br />This is classic that reminds me of the good days of USA Up All Night.\"]\n",
            "\n",
            "labels:  [1 0 1]\n"
          ]
        }
      ],
      "source": [
        "for example, label in train_dataset.take(1):\n",
        "    print('texts: ', example.numpy()[:3])\n",
        "    print()\n",
        "    print('labels: ', label.numpy()[:3])"
      ]
    },
    {
      "cell_type": "code",
      "execution_count": 16,
      "metadata": {
        "id": "ZIBTwE0E76bi"
      },
      "outputs": [],
      "source": [
        "e = tf.keras.layers.experimental.preprocessing.TextVectorization()\n",
        "e.adapt([\n",
        "    \"I love samosas and jalebi\",\n",
        "    \"I love biking and yoga\",\n",
        "    \"I love tensorflow\"\n",
        "])"
      ]
    },
    {
      "cell_type": "code",
      "execution_count": 17,
      "metadata": {
        "colab": {
          "base_uri": "https://localhost:8080/"
        },
        "id": "hko8cai676bi",
        "outputId": "8a083485-1ff5-45ab-b12d-cc2595b21250"
      },
      "outputs": [
        {
          "output_type": "execute_result",
          "data": {
            "text/plain": [
              "['',\n",
              " '[UNK]',\n",
              " 'love',\n",
              " 'i',\n",
              " 'and',\n",
              " 'yoga',\n",
              " 'tensorflow',\n",
              " 'samosas',\n",
              " 'jalebi',\n",
              " 'biking']"
            ]
          },
          "metadata": {},
          "execution_count": 17
        }
      ],
      "source": [
        "e.get_vocabulary()"
      ]
    },
    {
      "cell_type": "code",
      "execution_count": 18,
      "metadata": {
        "colab": {
          "base_uri": "https://localhost:8080/"
        },
        "id": "ceTLviGS76bi",
        "outputId": "c339acfe-f5b0-4653-ea04-b7a4d2b11162"
      },
      "outputs": [
        {
          "output_type": "execute_result",
          "data": {
            "text/plain": [
              "array([[3, 2, 1]])"
            ]
          },
          "metadata": {},
          "execution_count": 18
        }
      ],
      "source": [
        "e([\"I love pizza\"]).numpy()"
      ]
    },
    {
      "cell_type": "code",
      "execution_count": 19,
      "metadata": {
        "id": "2B3Dj-CN76bi"
      },
      "outputs": [],
      "source": [
        "VOCAB_SIZE = 1000\n",
        "encoder = tf.keras.layers.experimental.preprocessing.TextVectorization(\n",
        "    max_tokens=VOCAB_SIZE)\n",
        "encoder.adapt(train_dataset.map(lambda text, label: text))"
      ]
    },
    {
      "cell_type": "code",
      "execution_count": 20,
      "metadata": {
        "colab": {
          "base_uri": "https://localhost:8080/"
        },
        "id": "aYO3LCjl76bi",
        "outputId": "453e1101-3be7-4ee1-a5d5-3b091648d1a3"
      },
      "outputs": [
        {
          "output_type": "execute_result",
          "data": {
            "text/plain": [
              "array(['', '[UNK]', 'the', 'and', 'a', 'of', 'to', 'is', 'in', 'it', 'i',\n",
              "       'this', 'that', 'br', 'was', 'as', 'for', 'with', 'movie', 'but',\n",
              "       'film', 'on', 'not', 'you', 'are'], dtype='<U14')"
            ]
          },
          "metadata": {},
          "execution_count": 20
        }
      ],
      "source": [
        "vocab = np.array(encoder.get_vocabulary())\n",
        "vocab[:25]"
      ]
    },
    {
      "cell_type": "code",
      "execution_count": 21,
      "metadata": {
        "colab": {
          "base_uri": "https://localhost:8080/"
        },
        "id": "BZSguDVW76bi",
        "outputId": "f0fd5070-f9f3-4bce-f559-97d71e3d6b21"
      },
      "outputs": [
        {
          "output_type": "execute_result",
          "data": {
            "text/plain": [
              "<tf.Tensor: shape=(2,), dtype=string, numpy=\n",
              "array([b'What an ambitious project Kenneth Branagh undertook here and how well it was realized! This is the first filmed version of \\'Hamlet\\' to use the full text of Shakespeare\\'s play, but Branagh didn\\'t do it just because \"it was there.\" His intention, I believe, was to make the play accessible and understandable to the general viewer without dumbing it down, so to speak. In return he asks viewers to put in a little work themselves, a fair enough proposition and one that\\'s a bargain.<br /><br />The setting is a generic 19th century European one and this does more than work well, it keeps a modern or ancient look from possibly distracting from the work itself. The production design and cinematography and both outstanding, which helps immensely when you\\'re watching a four-hour movie. Branagh\\'s casting once again is inspired and the acting is likewise. The direction accomplishes the heavy task of making this a movie rather than a deluxe version of a play. Since so much of \\'Hamlet\\' is based on interior monologue and there are relatively few duels, battles, etc., this can be a daunting task. But everything Branagh tries to do seems to work.<br /><br />Branagh has always been one of the most interesting actor/writer/directors, if not always the best, since he made his big splash with \\'Henry V.\\' One quibble I had with him was what I saw as a tendency to ham it up at times. In his portrayal of Hamlet here he might be accused of that again, but there is a method at work. Let\\'s face it, \\'Hamlet\\' is not an easy work for the average person to understand and if one has never seen it performed before, he or she needs help even if they\\'ve read the play. Hamlet has the most lines of any Shakespearian character and Branagh makes sure that his viewers know what this man is thinking and feeling throughout the film, even if you don\\'t know the literal meaning of every arcane word. This performance by Branagh was at the very least worthy of an Oscar nomination.<br /><br />There are so many other outstanding performances here they\\'re almost too numerous to mention, but some of them must be acknowledged. Derek Jacobi as Claudius is superb but even he takes a back seat to Kate Winslet when it comes to handing out praise. Her portrayal of Ophelia is awesome in its depth of feeling, made only more outstanding by the knowledge that she was only about 20 years old at the time! She looks to me like the finest young actress around. Other super performers in no particular order are Richard Briers, Nicholas Farrell, Michael Maloney, and Reece Dinsdale and Timothy Spall as Guildenstern and Rosencrantz, respectively. Honorable mention goes to Julie Christie, Charlton Heston, and Robin Williams, who manages to do his thing here successfully. Even Billy Crystal as a gravedigger works. The one cast member who doesn\\'t, inexplicably, is Jack Lemmon. In the very opening scene he appears, and while the other three actors do a great job at setting the tense mood, Lemmon sounds like he is just running lines in rehearsal as a favor. You know this must have been a real dilemma for Branagh, since everything else about the movies screams out that it\\'s the work of a perfectionist.<br /><br />Not to be facetious when speaking of a four-hour movie, but it does seem just a tad too long. Some monologues and conversations do tend to go on a bit, if I may be so bold, and a little bit of judicious pruning would be welcome.<br /><br />Did I forget anything, other than Patrick Doyle\\'s score? No doubt I did. I\\'ll just sum up by saying that Kenneth Branagh may have made the definitive film version of \\'Hamlet,\\' and it will be a truly monumental production that tops this one.',\n",
              "       b'When a friend gave me a boxed set of \"12 Amazing Scifi/Horror Movies!\" I was understandably a little cautious. But, since the item was a gift, I really didn\\'t truly pay my common sense much heed. After all....movies for free! So what if they are a little ropey. After much consideration, Alien Intruder was the first of those movies. Ironically, it was first choice because it looked the best of the bunch. All I can say is, if this is the best of them, I shudder to think what the rest are like.<br /><br />On the surface, it had some good things going for it. Four (count \\'em!) actors that I was familiar with. Billy Dee Williams, Tracy Scoggins, Maxwell Caulfield and Jeff Conaway. I told myself...\"Billy and Tracy have been in some good scifi (Star Wars and Babylon 5, respectively) so they wouldn\\'t sign up for a turkey. Max is a veteran soap actor who never really managed to break into film....but not too shoddy an actor. An Jeff....well...he\\'s done the good and the bad as far as films and TV go.\" I was soon to discover that Jeff had decided to add \"the ugly\" to his repertoire of movies.<br /><br />The first clue was in the opening scenes. Jeff mugs his way with gusto through an \"I\\'m mad\" scene before finally killing himself. An amusing cameo performance, really. Unfortunately this is, without much exaggeration, the highlight of the film. It goes downhill from there.<br /><br />Next up we have the commander of the mission (Williams) who is being sent out to see what happened to Jeff and his crew busy picking his new shipmates from among the ranks of the criminal element. But this assortment aren\\'t so much the Dirty Dozen - more like the Unconvincing Foursome. Plus, one of the crims, a computer hacker, is shown in his cell working away on a laptop computer. Isn\\'t that a bit like letting a murderer run a gun shop in the slammer? Pretty lame prison, if you ask me.<br /><br />When they finally take off the effects are truly horrible. It looks like the spaceship model was knocked up in an afternoon by some bored 8 year old who had parts left over from his Airfix kits.<br /><br />But the horror doesn\\'t stop there. Whilst on route to the area where Jeff\\'s ship vanished, the criminal crew are rewarded for their good behaviour by being given weekends of virtual reality, in which they indulge their male fantasies. All well and good, and the use of scenes from their fantasies serves as an introduction to the \"Alien Menace\" which begins to appear there. But did they have to drag it out for quite sooooo loooooong? Alien Intruder? Alien Boring, more like.<br /><br />Finally they make it to G-Sector and the alien presence makes them fight against each other for her affections until only good old Max is left. The ending, in truly optimistic rubbish film vein, hints at a sequel - as if! Also making an appearance in this movie is a character I\\'ll nickname the \"Sweatdroid\". He\\'s supposed to be an android, but apparently that fact was lost on the make-up crew, who provided him with sweaty features at any opportunity. But don\\'t worry, he\\'s just there to make up the body count numbers at the end.<br /><br />Williams and Scoggins, to be truthful, do very little in the film. They only just barely stay awake, let alone act. And, as I mentioned earlier, Jeff gets an early trip to the showers, so his manicness isn\\'t allowed to enlighten much of the film. Max tries his best, as do a couple of the other cast members, but the movie is just direly atrocious, to be honest.<br /><br />The one, and only, half-way imaginative thing this movie offers is the ship naming convention. They are all named after musicians - Holly, Presley, Joplin. The rest of the film is bland and uninspired.<br /><br />Made in 1992, I had thought, on initial viewing, it was one of those 80\\'s straight-to-video jobs. Looks like they still made crap movies well into the 90\\'s, it seems.<br /><br />It\\'s best avoided. Even as a beer n chips movie this film is a stinker, but at least you can fast forward it, I suppose.'],\n",
              "      dtype=object)>"
            ]
          },
          "metadata": {},
          "execution_count": 21
        }
      ],
      "source": [
        "example[:2]"
      ]
    },
    {
      "cell_type": "code",
      "execution_count": 22,
      "metadata": {
        "colab": {
          "base_uri": "https://localhost:8080/"
        },
        "id": "gLGqroSK76bj",
        "outputId": "93e17c6b-85c9-45cc-848b-ba0279fea3cf"
      },
      "outputs": [
        {
          "output_type": "execute_result",
          "data": {
            "text/plain": [
              "array([[ 49,  34,   1, ...,   0,   0,   0],\n",
              "       [ 51,   4, 465, ...,   0,   0,   0],\n",
              "       [  6,  28,   1, ...,   0,   0,   0]])"
            ]
          },
          "metadata": {},
          "execution_count": 22
        }
      ],
      "source": [
        "encoded_example = encoder(example)[:3].numpy()\n",
        "encoded_example"
      ]
    },
    {
      "cell_type": "code",
      "execution_count": 23,
      "metadata": {
        "scrolled": true,
        "colab": {
          "base_uri": "https://localhost:8080/"
        },
        "id": "NI30WSqj76bj",
        "outputId": "726ca5c8-10f3-4a8e-f877-a95b4b3572fc"
      },
      "outputs": [
        {
          "output_type": "stream",
          "name": "stdout",
          "text": [
            "Original:  b'What an ambitious project Kenneth Branagh undertook here and how well it was realized! This is the first filmed version of \\'Hamlet\\' to use the full text of Shakespeare\\'s play, but Branagh didn\\'t do it just because \"it was there.\" His intention, I believe, was to make the play accessible and understandable to the general viewer without dumbing it down, so to speak. In return he asks viewers to put in a little work themselves, a fair enough proposition and one that\\'s a bargain.<br /><br />The setting is a generic 19th century European one and this does more than work well, it keeps a modern or ancient look from possibly distracting from the work itself. The production design and cinematography and both outstanding, which helps immensely when you\\'re watching a four-hour movie. Branagh\\'s casting once again is inspired and the acting is likewise. The direction accomplishes the heavy task of making this a movie rather than a deluxe version of a play. Since so much of \\'Hamlet\\' is based on interior monologue and there are relatively few duels, battles, etc., this can be a daunting task. But everything Branagh tries to do seems to work.<br /><br />Branagh has always been one of the most interesting actor/writer/directors, if not always the best, since he made his big splash with \\'Henry V.\\' One quibble I had with him was what I saw as a tendency to ham it up at times. In his portrayal of Hamlet here he might be accused of that again, but there is a method at work. Let\\'s face it, \\'Hamlet\\' is not an easy work for the average person to understand and if one has never seen it performed before, he or she needs help even if they\\'ve read the play. Hamlet has the most lines of any Shakespearian character and Branagh makes sure that his viewers know what this man is thinking and feeling throughout the film, even if you don\\'t know the literal meaning of every arcane word. This performance by Branagh was at the very least worthy of an Oscar nomination.<br /><br />There are so many other outstanding performances here they\\'re almost too numerous to mention, but some of them must be acknowledged. Derek Jacobi as Claudius is superb but even he takes a back seat to Kate Winslet when it comes to handing out praise. Her portrayal of Ophelia is awesome in its depth of feeling, made only more outstanding by the knowledge that she was only about 20 years old at the time! She looks to me like the finest young actress around. Other super performers in no particular order are Richard Briers, Nicholas Farrell, Michael Maloney, and Reece Dinsdale and Timothy Spall as Guildenstern and Rosencrantz, respectively. Honorable mention goes to Julie Christie, Charlton Heston, and Robin Williams, who manages to do his thing here successfully. Even Billy Crystal as a gravedigger works. The one cast member who doesn\\'t, inexplicably, is Jack Lemmon. In the very opening scene he appears, and while the other three actors do a great job at setting the tense mood, Lemmon sounds like he is just running lines in rehearsal as a favor. You know this must have been a real dilemma for Branagh, since everything else about the movies screams out that it\\'s the work of a perfectionist.<br /><br />Not to be facetious when speaking of a four-hour movie, but it does seem just a tad too long. Some monologues and conversations do tend to go on a bit, if I may be so bold, and a little bit of judicious pruning would be welcome.<br /><br />Did I forget anything, other than Patrick Doyle\\'s score? No doubt I did. I\\'ll just sum up by saying that Kenneth Branagh may have made the definitive film version of \\'Hamlet,\\' and it will be a truly monumental production that tops this one.'\n",
            "Round-trip:  what an [UNK] [UNK] [UNK] [UNK] [UNK] here and how well it was [UNK] this is the first filmed version of [UNK] to use the full [UNK] of [UNK] play but [UNK] didnt do it just because it was there his [UNK] i believe was to make the play [UNK] and [UNK] to the general viewer without [UNK] it down so to [UNK] in return he [UNK] viewers to put in a little work themselves a [UNK] enough [UNK] and one thats a [UNK] br the setting is a [UNK] [UNK] [UNK] [UNK] one and this does more than work well it keeps a modern or [UNK] look from possibly [UNK] from the work itself the production [UNK] and cinematography and both [UNK] which [UNK] [UNK] when youre watching a [UNK] movie [UNK] casting once again is [UNK] and the acting is [UNK] the direction [UNK] the [UNK] [UNK] of making this a movie rather than a [UNK] version of a play since so much of [UNK] is based on [UNK] [UNK] and there are [UNK] few [UNK] [UNK] etc this can be a [UNK] [UNK] but everything [UNK] tries to do seems to [UNK] br [UNK] has always been one of the most interesting [UNK] if not always the best since he made his big [UNK] with [UNK] [UNK] one [UNK] i had with him was what i saw as a [UNK] to [UNK] it up at times in his [UNK] of [UNK] here he might be [UNK] of that again but there is a [UNK] at work lets face it [UNK] is not an easy work for the average person to understand and if one has never seen it [UNK] before he or she needs help even if [UNK] read the play [UNK] has the most lines of any [UNK] character and [UNK] makes sure that his viewers know what this man is thinking and feeling throughout the film even if you dont know the [UNK] [UNK] of every [UNK] word this performance by [UNK] was at the very least [UNK] of an oscar [UNK] br there are so many other [UNK] performances here theyre almost too [UNK] to mention but some of them must be [UNK] [UNK] [UNK] as [UNK] is superb but even he takes a back [UNK] to [UNK] [UNK] when it comes to [UNK] out [UNK] her [UNK] of [UNK] is [UNK] in its [UNK] of feeling made only more [UNK] by the [UNK] that she was only about 20 years old at the time she looks to me like the [UNK] young actress around other [UNK] [UNK] in no particular order are richard [UNK] [UNK] [UNK] michael [UNK] and [UNK] [UNK] and [UNK] [UNK] as [UNK] and [UNK] [UNK] [UNK] mention goes to [UNK] [UNK] [UNK] [UNK] and [UNK] [UNK] who manages to do his thing here [UNK] even [UNK] [UNK] as a [UNK] works the one cast [UNK] who doesnt [UNK] is jack [UNK] in the very opening scene he appears and while the other three actors do a great job at setting the [UNK] [UNK] [UNK] sounds like he is just running lines in [UNK] as a [UNK] you know this must have been a real [UNK] for [UNK] since everything else about the movies [UNK] out that its the work of a [UNK] br not to be [UNK] when [UNK] of a [UNK] movie but it does seem just a [UNK] too long some [UNK] and [UNK] do [UNK] to go on a bit if i may be so [UNK] and a little bit of [UNK] [UNK] would be [UNK] br did i forget anything other than [UNK] [UNK] score no doubt i did ill just [UNK] up by saying that [UNK] [UNK] may have made the [UNK] film version of [UNK] and it will be a truly [UNK] production that [UNK] this one                                                                                                                                                                                                                                                              \n",
            "\n",
            "Original:  b'When a friend gave me a boxed set of \"12 Amazing Scifi/Horror Movies!\" I was understandably a little cautious. But, since the item was a gift, I really didn\\'t truly pay my common sense much heed. After all....movies for free! So what if they are a little ropey. After much consideration, Alien Intruder was the first of those movies. Ironically, it was first choice because it looked the best of the bunch. All I can say is, if this is the best of them, I shudder to think what the rest are like.<br /><br />On the surface, it had some good things going for it. Four (count \\'em!) actors that I was familiar with. Billy Dee Williams, Tracy Scoggins, Maxwell Caulfield and Jeff Conaway. I told myself...\"Billy and Tracy have been in some good scifi (Star Wars and Babylon 5, respectively) so they wouldn\\'t sign up for a turkey. Max is a veteran soap actor who never really managed to break into film....but not too shoddy an actor. An Jeff....well...he\\'s done the good and the bad as far as films and TV go.\" I was soon to discover that Jeff had decided to add \"the ugly\" to his repertoire of movies.<br /><br />The first clue was in the opening scenes. Jeff mugs his way with gusto through an \"I\\'m mad\" scene before finally killing himself. An amusing cameo performance, really. Unfortunately this is, without much exaggeration, the highlight of the film. It goes downhill from there.<br /><br />Next up we have the commander of the mission (Williams) who is being sent out to see what happened to Jeff and his crew busy picking his new shipmates from among the ranks of the criminal element. But this assortment aren\\'t so much the Dirty Dozen - more like the Unconvincing Foursome. Plus, one of the crims, a computer hacker, is shown in his cell working away on a laptop computer. Isn\\'t that a bit like letting a murderer run a gun shop in the slammer? Pretty lame prison, if you ask me.<br /><br />When they finally take off the effects are truly horrible. It looks like the spaceship model was knocked up in an afternoon by some bored 8 year old who had parts left over from his Airfix kits.<br /><br />But the horror doesn\\'t stop there. Whilst on route to the area where Jeff\\'s ship vanished, the criminal crew are rewarded for their good behaviour by being given weekends of virtual reality, in which they indulge their male fantasies. All well and good, and the use of scenes from their fantasies serves as an introduction to the \"Alien Menace\" which begins to appear there. But did they have to drag it out for quite sooooo loooooong? Alien Intruder? Alien Boring, more like.<br /><br />Finally they make it to G-Sector and the alien presence makes them fight against each other for her affections until only good old Max is left. The ending, in truly optimistic rubbish film vein, hints at a sequel - as if! Also making an appearance in this movie is a character I\\'ll nickname the \"Sweatdroid\". He\\'s supposed to be an android, but apparently that fact was lost on the make-up crew, who provided him with sweaty features at any opportunity. But don\\'t worry, he\\'s just there to make up the body count numbers at the end.<br /><br />Williams and Scoggins, to be truthful, do very little in the film. They only just barely stay awake, let alone act. And, as I mentioned earlier, Jeff gets an early trip to the showers, so his manicness isn\\'t allowed to enlighten much of the film. Max tries his best, as do a couple of the other cast members, but the movie is just direly atrocious, to be honest.<br /><br />The one, and only, half-way imaginative thing this movie offers is the ship naming convention. They are all named after musicians - Holly, Presley, Joplin. The rest of the film is bland and uninspired.<br /><br />Made in 1992, I had thought, on initial viewing, it was one of those 80\\'s straight-to-video jobs. Looks like they still made crap movies well into the 90\\'s, it seems.<br /><br />It\\'s best avoided. Even as a beer n chips movie this film is a stinker, but at least you can fast forward it, I suppose.'\n",
            "Round-trip:  when a friend gave me a [UNK] set of [UNK] amazing [UNK] movies i was [UNK] a little [UNK] but since the [UNK] was a [UNK] i really didnt truly pay my [UNK] sense much [UNK] after [UNK] for free so what if they are a little [UNK] after much [UNK] [UNK] [UNK] was the first of those movies [UNK] it was first [UNK] because it looked the best of the bunch all i can say is if this is the best of them i [UNK] to think what the rest are [UNK] br on the [UNK] it had some good things going for it four [UNK] [UNK] actors that i was [UNK] with [UNK] [UNK] [UNK] [UNK] [UNK] [UNK] [UNK] and [UNK] [UNK] i told [UNK] and [UNK] have been in some good scifi star [UNK] and [UNK] 5 [UNK] so they wouldnt [UNK] up for a [UNK] [UNK] is a [UNK] [UNK] actor who never really [UNK] to [UNK] into [UNK] not too [UNK] an actor an [UNK] done the good and the bad as far as films and tv go i was soon to [UNK] that [UNK] had decided to add the [UNK] to his [UNK] of [UNK] br the first [UNK] was in the opening scenes [UNK] [UNK] his way with [UNK] through an im [UNK] scene before finally killing himself an [UNK] [UNK] performance really unfortunately this is without much [UNK] the [UNK] of the film it goes [UNK] from [UNK] br next up we have the [UNK] of the [UNK] [UNK] who is being [UNK] out to see what happened to [UNK] and his [UNK] [UNK] [UNK] his new [UNK] from among the [UNK] of the [UNK] [UNK] but this [UNK] arent so much the [UNK] [UNK] more like the [UNK] [UNK] plus one of the [UNK] a [UNK] [UNK] is shown in his [UNK] working away on a [UNK] [UNK] isnt that a bit like [UNK] a [UNK] run a [UNK] [UNK] in the [UNK] pretty lame [UNK] if you ask [UNK] br when they finally take off the effects are truly horrible it looks like the [UNK] [UNK] was [UNK] up in an [UNK] by some [UNK] [UNK] year old who had parts left over from his [UNK] [UNK] br but the horror doesnt stop there [UNK] on [UNK] to the [UNK] where [UNK] [UNK] [UNK] the [UNK] [UNK] are [UNK] for their good [UNK] by being given [UNK] of [UNK] reality in which they [UNK] their male [UNK] all well and good and the use of scenes from their [UNK] [UNK] as an [UNK] to the [UNK] [UNK] which begins to appear there but did they have to [UNK] it out for quite [UNK] [UNK] [UNK] [UNK] [UNK] boring more [UNK] br finally they make it to [UNK] and the [UNK] [UNK] makes them fight against each other for her [UNK] until only good old [UNK] is left the ending in truly [UNK] [UNK] film [UNK] [UNK] at a sequel as if also making an [UNK] in this movie is a character ill [UNK] the [UNK] hes supposed to be an [UNK] but apparently that fact was lost on the [UNK] [UNK] who [UNK] him with [UNK] features at any [UNK] but dont [UNK] hes just there to make up the body [UNK] [UNK] at the [UNK] br [UNK] and [UNK] to be [UNK] do very little in the film they only just [UNK] stay [UNK] let alone act and as i [UNK] earlier [UNK] gets an early [UNK] to the [UNK] so his [UNK] isnt [UNK] to [UNK] much of the film [UNK] tries his best as do a couple of the other cast [UNK] but the movie is just [UNK] [UNK] to be [UNK] br the one and only [UNK] [UNK] thing this movie [UNK] is the [UNK] [UNK] [UNK] they are all named after [UNK] [UNK] [UNK] [UNK] the rest of the film is [UNK] and [UNK] br made in [UNK] i had thought on [UNK] viewing it was one of those 80s [UNK] [UNK] looks like they still made crap movies well into the [UNK] it [UNK] br its best [UNK] even as a [UNK] [UNK] [UNK] movie this film is a [UNK] but at least you can fast forward it i [UNK]                                                                                                                                                                                      \n",
            "\n",
            "Original:  b\"To be honest I watched this movie only because of my pubert needs. I mean, I couldn't get women at my age (I was 9 or 10) so I thought watching Elvira's cleavage was the closet thing to sex.<br /><br />I ended up having a great time with this cult classic about horror comedy, Halloween parties, sassy humor, and some sexy evil displayed by Elvira.<br /><br />They just don't make movies like this anymore... It had the feeling of an amateur effort mixed with a late night cable talk show host style. <br /><br />The truth is that it generated plenty of fans because of it's humor and the ability to perform by Cassandra. <br /><br />This is classic that reminds me of the good days of USA Up All Night.\"\n",
            "Round-trip:  to be [UNK] i watched this movie only because of my [UNK] needs i mean i couldnt get women at my age i was [UNK] or 10 so i thought watching [UNK] [UNK] was the [UNK] thing to [UNK] br i [UNK] up having a great time with this [UNK] classic about horror comedy [UNK] [UNK] [UNK] humor and some [UNK] evil [UNK] by [UNK] br they just dont make movies like this [UNK] it had the feeling of an [UNK] effort [UNK] with a late night [UNK] talk show [UNK] style br br the truth is that it [UNK] plenty of fans because of its humor and the [UNK] to [UNK] by [UNK] br br this is classic that [UNK] me of the good days of [UNK] up all night                                                                                                                                                                                                                                                                                                                                                                                                                                                                                                                                                                                                                                                                                                                                                                                               \n",
            "\n"
          ]
        }
      ],
      "source": [
        "for n in range(3):\n",
        "    print(\"Original: \", example[n].numpy())\n",
        "    print(\"Round-trip: \", \" \".join(vocab[encoded_example[n]]))\n",
        "    print()"
      ]
    },
    {
      "cell_type": "code",
      "execution_count": 24,
      "metadata": {
        "id": "Fb-YYYkg76bj"
      },
      "outputs": [],
      "source": [
        "model = tf.keras.Sequential([\n",
        "    encoder,\n",
        "    tf.keras.layers.Embedding(\n",
        "        input_dim=len(encoder.get_vocabulary()),\n",
        "        output_dim=64,\n",
        "        # Use masking to handle the variable sequence lengths\n",
        "        mask_zero=True),\n",
        "    tf.keras.layers.Bidirectional(tf.keras.layers.LSTM(64)),\n",
        "    tf.keras.layers.Dense(64, activation='relu'),\n",
        "    tf.keras.layers.Dense(1)\n",
        "])"
      ]
    },
    {
      "cell_type": "code",
      "execution_count": 25,
      "metadata": {
        "colab": {
          "base_uri": "https://localhost:8080/"
        },
        "id": "ND8n0iru76bj",
        "outputId": "28020d13-d357-44b4-f5ea-5502e1e0002c"
      },
      "outputs": [
        {
          "output_type": "stream",
          "name": "stdout",
          "text": [
            "1/1 [==============================] - 3s 3s/step\n",
            "[-0.0040582]\n"
          ]
        }
      ],
      "source": [
        "sample_text = ('The movie was cool. The animation and the graphics '\n",
        "               'were out of this world. I would recommend this movie.')\n",
        "sample_text = ('awesome movie, I loved it so much')\n",
        "predictions = model.predict(np.array([sample_text]))\n",
        "print(predictions[0])"
      ]
    },
    {
      "cell_type": "code",
      "execution_count": 26,
      "metadata": {
        "id": "PHvfn7QV76bj"
      },
      "outputs": [],
      "source": [
        "model.compile(loss=tf.keras.losses.BinaryCrossentropy(from_logits=True),\n",
        "              optimizer=tf.keras.optimizers.Adam(1e-4),\n",
        "              metrics=['accuracy'])"
      ]
    },
    {
      "cell_type": "code",
      "execution_count": 27,
      "metadata": {
        "scrolled": false,
        "colab": {
          "base_uri": "https://localhost:8080/"
        },
        "id": "WTaHcIye76bj",
        "outputId": "c6b92f9b-8362-42ea-fb4e-a80fb5e23624"
      },
      "outputs": [
        {
          "metadata": {
            "tags": null
          },
          "name": "stdout",
          "output_type": "stream",
          "text": [
            "Epoch 1/10\n",
            "391/391 [==============================] - 685s 2s/step - loss: 0.6035 - accuracy: 0.6143 - val_loss: 0.4440 - val_accuracy: 0.7703\n",
            "Epoch 2/10\n",
            "391/391 [==============================] - 668s 2s/step - loss: 0.3771 - accuracy: 0.8282 - val_loss: 0.3620 - val_accuracy: 0.8333\n",
            "Epoch 3/10\n",
            "391/391 [==============================] - 666s 2s/step - loss: 0.3352 - accuracy: 0.8531 - val_loss: 0.3322 - val_accuracy: 0.8583\n",
            "Epoch 4/10\n",
            "391/391 [==============================] - 673s 2s/step - loss: 0.3197 - accuracy: 0.8619 - val_loss: 0.3295 - val_accuracy: 0.8573\n",
            "Epoch 5/10\n",
            "391/391 [==============================] - 666s 2s/step - loss: 0.3149 - accuracy: 0.8653 - val_loss: 0.3283 - val_accuracy: 0.8505\n",
            "Epoch 6/10\n",
            "391/391 [==============================] - 671s 2s/step - loss: 0.3084 - accuracy: 0.8683 - val_loss: 0.3260 - val_accuracy: 0.8557\n",
            "Epoch 7/10\n",
            "391/391 [==============================] - 671s 2s/step - loss: 0.3090 - accuracy: 0.8669 - val_loss: 0.3305 - val_accuracy: 0.8474\n",
            "Epoch 8/10\n",
            "391/391 [==============================] - 668s 2s/step - loss: 0.3051 - accuracy: 0.8701 - val_loss: 0.3423 - val_accuracy: 0.8589\n",
            "Epoch 9/10\n",
            "391/391 [==============================] - 671s 2s/step - loss: 0.3031 - accuracy: 0.8704 - val_loss: 0.3284 - val_accuracy: 0.8547\n",
            "Epoch 10/10\n",
            "391/391 [==============================] - 676s 2s/step - loss: 0.3037 - accuracy: 0.8693 - val_loss: 0.3222 - val_accuracy: 0.8516\n"
          ]
        },
        {
          "data": {
            "text/plain": [
              "<keras.callbacks.History at 0x7f2f69822050>"
            ]
          },
          "execution_count": 27,
          "metadata": {},
          "output_type": "execute_result"
        }
      ],
      "source": [
        "\n",
        "model.fit(train_dataset, epochs=10,\n",
        "                    validation_data=test_dataset,\n",
        "                    validation_steps=30)"
      ]
    },
    {
      "cell_type": "code",
      "execution_count": 28,
      "metadata": {
        "colab": {
          "base_uri": "https://localhost:8080/"
        },
        "id": "B7oxF_ly76bj",
        "outputId": "e9c2d827-2121-4359-ad66-68adf147eef5"
      },
      "outputs": [
        {
          "metadata": {
            "tags": null
          },
          "name": "stdout",
          "output_type": "stream",
          "text": [
            "3.7.15 (default, Oct 12 2022, 19:14:55) \n",
            "[GCC 7.5.0]\n"
          ]
        }
      ],
      "source": [
        "import sys\n",
        "print(sys.version)"
      ]
    }
  ],
  "metadata": {
    "kernelspec": {
      "display_name": "Python 3.9.12 64-bit ('miniconda')",
      "language": "python",
      "name": "python3"
    },
    "language_info": {
      "codemirror_mode": {
        "name": "ipython",
        "version": 3
      },
      "file_extension": ".py",
      "mimetype": "text/x-python",
      "name": "python",
      "nbconvert_exporter": "python",
      "pygments_lexer": "ipython3",
      "version": "3.9.12"
    },
    "vscode": {
      "interpreter": {
        "hash": "1d92518144f61134976ceef286099171ab7e96c5352ad4b70379352031f531a8"
      }
    },
    "colab": {
      "provenance": [],
      "include_colab_link": true
    }
  },
  "nbformat": 4,
  "nbformat_minor": 0
}